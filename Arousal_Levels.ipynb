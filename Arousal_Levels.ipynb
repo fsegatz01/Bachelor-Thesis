{
  "nbformat": 4,
  "nbformat_minor": 0,
  "metadata": {
    "colab": {
      "provenance": []
    },
    "kernelspec": {
      "name": "python3",
      "display_name": "Python 3"
    },
    "language_info": {
      "name": "python"
    }
  },
  "cells": [
    {
      "cell_type": "code",
      "source": [
        "# --- Import Libraries ---\n",
        "\n",
        "import scipy.io\n",
        "from google.colab import drive\n",
        "import matplotlib.pyplot as plt\n",
        "import numpy as np\n",
        "import zipfile\n",
        "import seaborn as sns\n",
        "import pandas as pd\n",
        "\n",
        "drive.mount('/content/drive')"
      ],
      "metadata": {
        "id": "cmstx7VVJLqG"
      },
      "execution_count": null,
      "outputs": []
    },
    {
      "cell_type": "code",
      "source": [
        "# --- Get Arousal Ratings from Online Survey ---\n",
        "\n",
        "# define the path to the zip file containing the data\n",
        "path_zip_file = '/YOUR_PATH/newAATexp_379090_2025-01-06_12h14.38_082fe072-b0be-437c-95c4-ba8c4be2d92e.zip'\n",
        "\n",
        "# create an empty list for the ratings\n",
        "arousal_ratings = []\n",
        "\n",
        "# access the zip file\n",
        "with zipfile.ZipFile(path_zip_file, 'r') as zip_file:\n",
        "\n",
        "  # retrieve the file names\n",
        "  file_names = zip_file.namelist()\n",
        "\n",
        "  # get only csv files from data folder\n",
        "  csv_files = [x for x in file_names if x.startswith('data/') and x.endswith('.csv')]\n",
        "\n",
        "  # go through the files\n",
        "  for csv_file in csv_files:\n",
        "\n",
        "          # open the csv file\n",
        "          with zip_file.open(csv_file) as file:\n",
        "\n",
        "            # read the data from the participant, then extract the image id and arousal rating\n",
        "            participant_data = pd.read_csv(file)\n",
        "            arousal_ratings.append(participant_data[['exp_images', 'slider_arousal_main.response']])\n",
        "\n",
        "\n",
        "# save all the ratings into a pandas object and drop missing values (NaNs)\n",
        "total_arousal_ratings = pd.concat(arousal_ratings, ignore_index=True)\n",
        "total_arousal_ratings = total_arousal_ratings.dropna()\n",
        "\n",
        "# --- Computing Arousal Levels ---\n",
        "\n",
        "# invert the values from the scale so that 9 is high arousal and 1 low arousal and save as inverted_arousal_rating\n",
        "total_arousal_ratings['inverted_arousal_rating'] = (total_arousal_ratings['slider_arousal_main.response'] - 10) * -1\n",
        "\n",
        "# calculate the median of the inverted ratings for each image\n",
        "median_ratings = total_arousal_ratings.groupby('exp_images')['inverted_arousal_rating'].median().reset_index()\n",
        "\n",
        "# update the column name\n",
        "median_ratings.columns = ['exp_images', 'arousal_levels']\n",
        "\n",
        "# round the arousal levels\n",
        "median_ratings['arousal_levels'] = median_ratings['arousal_levels'].round()\n",
        "\n",
        "# derive the image ids from the names in exp_images and sort by img_id\n",
        "median_ratings['img_id'] = median_ratings['exp_images'].str.extract(r'image_(\\d+)\\.jpg')[0].astype(float)\n",
        "median_ratings = median_ratings.sort_values(by='img_id').reset_index(drop=True)\n",
        "\n",
        "# save the arousal levels as a csv\n",
        "median_ratings.to_csv(\"/YOUR_PATH/median_arousal_ratings.csv\", index=False)\n",
        "\n",
        "\n",
        "# --- Plotting the Arousal Level Distribution ---\n",
        "\n",
        "# count how frequently each arousal level appeared within the positive and negative image set\n",
        "positive_arousal_level = median_ratings[median_ratings['img_id'] <= 44]\n",
        "negative_arousal_level = median_ratings[median_ratings['img_id'] >= 45]\n",
        "positive_counts = positive_arousal_level['arousal_levels'].value_counts().sort_index()\n",
        "negative_counts = negative_arousal_level['arousal_levels'].value_counts().sort_index()\n",
        "\n",
        "# get the range of arousal levels\n",
        "arousal_range = positive_counts.index.union(negative_counts.index).astype(int)\n",
        "\n",
        "# plot the distribution of arousal levels per valence\n",
        "plt.figure(figsize=(10, 6))\n",
        "sns.barplot(positive_counts, color='limegreen', label='positive')\n",
        "sns.barplot(negative_counts, color='lightcoral', label='negative', width=0.6)\n",
        "\n",
        "# define plot details\n",
        "plt.title('Distribution of Arousal Levels in the Image Set',fontsize = 17)\n",
        "plt.legend(title='Image Valence', fontsize = 12, title_fontsize = 12)\n",
        "plt.xlabel('Arousal Level', fontsize = 15)\n",
        "plt.ylabel('Number of Images', fontsize = 15)\n",
        "plt.xticks(ticks=np.arange(len(arousal_range)), labels=arousal_range, fontsize = 12)\n",
        "plt.yticks(np.arange(0,20, 5), fontsize = 12)\n",
        "plt.grid(axis=\"y\", linestyle=\"--\", alpha=0.7)\n",
        "plt.show()\n"
      ],
      "metadata": {
        "id": "8qkKf0vrWOA3"
      },
      "execution_count": null,
      "outputs": []
    }
  ]
}
